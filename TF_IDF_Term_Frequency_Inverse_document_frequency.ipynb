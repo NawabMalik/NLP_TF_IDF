{
 "cells": [
  {
   "cell_type": "code",
   "execution_count": 15,
   "metadata": {},
   "outputs": [],
   "source": [
    "import nltk"
   ]
  },
  {
   "cell_type": "code",
   "execution_count": 16,
   "metadata": {},
   "outputs": [],
   "source": [
    "paragraph=\"\"\"Probably the most effective way to achieve paragraph unity is to express the central idea of the paragraph in a \n",
    "topic sentence. Topic sentences are similar to mini thesis statements. Like a thesis statement, a topic sentence has a specific\n",
    "main point. Whereas the thesis is the main point of the essay, the topic sentence is the main point of the paragraph. Like the \n",
    "thesis statement, a topic sentence has a unifying function. But a thesis statement or topic sentence alone doesn’t guarantee \n",
    "unity. An essay is unified if all the paragraphs relate to the thesis, whereas a paragraph is unified if all the sentences \n",
    "relate to the topic sentence. Note: Not all paragraphs need topic sentences. In particular, opening and closing paragraphs, \n",
    "which serve different functions from body paragraphs, generally don’t have topic sentences.\n",
    "In academic writing, the topic sentence nearly always works best at the beginning of a paragraph so that the reader knows what \n",
    "to expect:\n",
    "The embrace of Twitter by politicians and journalists has been one of its most notable features in recent years: for both groups\n",
    "the use of Twitter is becoming close to a requirement. —Paul Bernal, “A Defence of Responsible Tweeting”\n",
    "This topic sentence forecasts the central idea or main point of the paragraph: “politicians” and “journalists” rely on Twitter.\n",
    "The rest of the paragraph will focus on these two Twitter-user groups, thereby fulfilling the promise made by the topic sentence.\n",
    "By avoiding irrelevant information that does not relate to the topic sentence, you can compose a unified paragraph.\"\"\""
   ]
  },
  {
   "cell_type": "code",
   "execution_count": 17,
   "metadata": {},
   "outputs": [
    {
     "data": {
      "text/plain": [
       "['Probably the most effective way to achieve paragraph unity is to express the central idea of the paragraph in a \\ntopic sentence.',\n",
       " 'Topic sentences are similar to mini thesis statements.',\n",
       " 'Like a thesis statement, a topic sentence has a specific\\nmain point.',\n",
       " 'Whereas the thesis is the main point of the essay, the topic sentence is the main point of the paragraph.',\n",
       " 'Like the \\nthesis statement, a topic sentence has a unifying function.',\n",
       " 'But a thesis statement or topic sentence alone doesn’t guarantee \\nunity.',\n",
       " 'An essay is unified if all the paragraphs relate to the thesis, whereas a paragraph is unified if all the sentences \\nrelate to the topic sentence.',\n",
       " 'Note: Not all paragraphs need topic sentences.',\n",
       " 'In particular, opening and closing paragraphs, \\nwhich serve different functions from body paragraphs, generally don’t have topic sentences.',\n",
       " 'In academic writing, the topic sentence nearly always works best at the beginning of a paragraph so that the reader knows what \\nto expect:\\nThe embrace of Twitter by politicians and journalists has been one of its most notable features in recent years: for both groups\\nthe use of Twitter is becoming close to a requirement.',\n",
       " '—Paul Bernal, “A Defence of Responsible Tweeting”\\nThis topic sentence forecasts the central idea or main point of the paragraph: “politicians” and “journalists” rely on Twitter.',\n",
       " 'The rest of the paragraph will focus on these two Twitter-user groups, thereby fulfilling the promise made by the topic sentence.',\n",
       " 'By avoiding irrelevant information that does not relate to the topic sentence, you can compose a unified paragraph.']"
      ]
     },
     "execution_count": 17,
     "metadata": {},
     "output_type": "execute_result"
    }
   ],
   "source": [
    "# lets do text preprocessing before BOW:\n",
    "sentance=nltk.sent_tokenize(paragraph)\n",
    "sentance"
   ]
  },
  {
   "cell_type": "code",
   "execution_count": 18,
   "metadata": {},
   "outputs": [],
   "source": [
    "from nltk.stem import WordNetLemmatizer\n",
    "lemmatizer=WordNetLemmatizer()"
   ]
  },
  {
   "cell_type": "code",
   "execution_count": 19,
   "metadata": {},
   "outputs": [],
   "source": [
    "from nltk.corpus import stopwords\n",
    "import re                                # Regular expression library for text preprocessing:"
   ]
  },
  {
   "cell_type": "code",
   "execution_count": 20,
   "metadata": {},
   "outputs": [],
   "source": [
    "list=[]\n",
    "for i in range(len(sentance)):\n",
    "    para=re.sub('[^a-zA-Z]',' ', sentance[i])       #replacing everthing by space ' ' excepted a-z or capital A-Z in sentance\n",
    "    para=para.lower()\n",
    "    para=para.split()\n",
    "    para=[lemmatizer.lemmatize(word) for word in para if word not in set(stopwords.words('english'))]\n",
    "    para=' '.join(para)\n",
    "    list.append(para)"
   ]
  },
  {
   "cell_type": "code",
   "execution_count": 21,
   "metadata": {},
   "outputs": [
    {
     "data": {
      "text/plain": [
       "['probably effective way achieve paragraph unity express central idea paragraph topic sentence',\n",
       " 'topic sentence similar mini thesis statement',\n",
       " 'like thesis statement topic sentence specific main point',\n",
       " 'whereas thesis main point essay topic sentence main point paragraph',\n",
       " 'like thesis statement topic sentence unifying function',\n",
       " 'thesis statement topic sentence alone guarantee unity',\n",
       " 'essay unified paragraph relate thesis whereas paragraph unified sentence relate topic sentence',\n",
       " 'note paragraph need topic sentence',\n",
       " 'particular opening closing paragraph serve different function body paragraph generally topic sentence',\n",
       " 'academic writing topic sentence nearly always work best beginning paragraph reader know expect embrace twitter politician journalist one notable feature recent year group use twitter becoming close requirement',\n",
       " 'paul bernal defence responsible tweeting topic sentence forecast central idea main point paragraph politician journalist rely twitter',\n",
       " 'rest paragraph focus two twitter user group thereby fulfilling promise made topic sentence',\n",
       " 'avoiding irrelevant information relate topic sentence compose unified paragraph']"
      ]
     },
     "execution_count": 21,
     "metadata": {},
     "output_type": "execute_result"
    }
   ],
   "source": [
    "list"
   ]
  },
  {
   "cell_type": "code",
   "execution_count": 22,
   "metadata": {},
   "outputs": [],
   "source": [
    "# lets create a TF_IDF model:\n",
    "from sklearn.feature_extraction.text import TfidfVectorizer\n",
    "vector=TfidfVectorizer(max_features=150)\n",
    "vector_new=vector.fit_transform(list).toarray()"
   ]
  },
  {
   "cell_type": "code",
   "execution_count": 23,
   "metadata": {},
   "outputs": [
    {
     "data": {
      "text/plain": [
       "(13, 79)"
      ]
     },
     "execution_count": 23,
     "metadata": {},
     "output_type": "execute_result"
    }
   ],
   "source": [
    "vector_new.shape"
   ]
  },
  {
   "cell_type": "code",
   "execution_count": 24,
   "metadata": {},
   "outputs": [
    {
     "data": {
      "text/plain": [
       "array([[0.        , 0.34742466, 0.        , ..., 0.        , 0.        ,\n",
       "        0.        ],\n",
       "       [0.        , 0.        , 0.        , ..., 0.        , 0.        ,\n",
       "        0.        ],\n",
       "       [0.        , 0.        , 0.        , ..., 0.        , 0.        ,\n",
       "        0.        ],\n",
       "       ...,\n",
       "       [0.        , 0.        , 0.        , ..., 0.        , 0.        ,\n",
       "        0.        ],\n",
       "       [0.        , 0.        , 0.        , ..., 0.        , 0.        ,\n",
       "        0.        ],\n",
       "       [0.        , 0.        , 0.        , ..., 0.        , 0.        ,\n",
       "        0.        ]])"
      ]
     },
     "execution_count": 24,
     "metadata": {},
     "output_type": "execute_result"
    }
   ],
   "source": [
    "vector_new"
   ]
  }
 ],
 "metadata": {
  "kernelspec": {
   "display_name": "Python 3",
   "language": "python",
   "name": "python3"
  },
  "language_info": {
   "codemirror_mode": {
    "name": "ipython",
    "version": 3
   },
   "file_extension": ".py",
   "mimetype": "text/x-python",
   "name": "python",
   "nbconvert_exporter": "python",
   "pygments_lexer": "ipython3",
   "version": "3.7.4"
  }
 },
 "nbformat": 4,
 "nbformat_minor": 4
}
